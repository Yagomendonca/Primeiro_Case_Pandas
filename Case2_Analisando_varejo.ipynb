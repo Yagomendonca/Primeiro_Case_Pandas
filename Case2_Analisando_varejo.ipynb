{
  "nbformat": 4,
  "nbformat_minor": 0,
  "metadata": {
    "colab": {
      "private_outputs": true,
      "provenance": [],
      "authorship_tag": "ABX9TyPi8eGPf9yStNfgGQzOqZJv",
      "include_colab_link": true
    },
    "kernelspec": {
      "name": "python3",
      "display_name": "Python 3"
    },
    "language_info": {
      "name": "python"
    }
  },
  "cells": [
    {
      "cell_type": "markdown",
      "metadata": {
        "id": "view-in-github",
        "colab_type": "text"
      },
      "source": [
        "<a href=\"https://colab.research.google.com/github/Yagomendonca/Primeiro_Case_Pandas/blob/main/Case2_Analisando_varejo.ipynb\" target=\"_parent\"><img src=\"https://colab.research.google.com/assets/colab-badge.svg\" alt=\"Open In Colab\"/></a>"
      ]
    },
    {
      "cell_type": "code",
      "execution_count": null,
      "metadata": {
        "id": "fv3xoX2b5zjQ"
      },
      "outputs": [],
      "source": [
        "import pandas as pd\n",
        "import seaborn as sn\n",
        "import matplotlib.pyplot as plt\n",
        "!pip install plotly\n",
        "!pip install cufflinks\n",
        "!pip install chart-studio"
      ]
    },
    {
      "cell_type": "code",
      "source": [
        "import chart_studio.plotly as py\n",
        "import cufflinks as cf\n",
        "import plotly.graph_objects as go\n",
        "import plotly.express as px"
      ],
      "metadata": {
        "id": "zD792C7lGpPl"
      },
      "execution_count": null,
      "outputs": []
    },
    {
      "cell_type": "code",
      "source": [
        "vendas = pd.read_excel('/content/sample_data/varejo.xlsx')\n",
        "display(vendas)"
      ],
      "metadata": {
        "id": "K3pPJpjl6Bx1"
      },
      "execution_count": null,
      "outputs": []
    },
    {
      "cell_type": "code",
      "source": [
        "vendas.info()"
      ],
      "metadata": {
        "id": "QR0F1Ki_7JDi"
      },
      "execution_count": null,
      "outputs": []
    },
    {
      "cell_type": "code",
      "source": [
        "vendas.groupby('idcanalvenda').idcompra.nunique()"
      ],
      "metadata": {
        "id": "iZGlwXWk7b1R"
      },
      "execution_count": null,
      "outputs": []
    },
    {
      "cell_type": "code",
      "source": [
        "vendas['idcanalvenda'] = vendas['idcanalvenda'].str.replace(\"APP\",\"Aplicativo\")\n",
        "vendas.groupby('idcanalvenda').idcompra.nunique()"
      ],
      "metadata": {
        "id": "6946Q2yE7_Bp"
      },
      "execution_count": null,
      "outputs": []
    },
    {
      "cell_type": "code",
      "source": [
        "vendas.groupby('Nome_Departamento').idcompra.nunique()"
      ],
      "metadata": {
        "id": "ms-xnR3G8cW9"
      },
      "execution_count": null,
      "outputs": []
    },
    {
      "cell_type": "code",
      "source": [
        "vendas['Nome_Departamento'] = vendas['Nome_Departamento'].str.replace(\" \", \"_\")\n",
        "vendas.groupby('Nome_Departamento').idcompra.nunique()"
      ],
      "metadata": {
        "id": "CSJJtJ6880ql"
      },
      "execution_count": null,
      "outputs": []
    },
    {
      "cell_type": "code",
      "source": [
        "vendas.info()"
      ],
      "metadata": {
        "id": "txVkYqp79i1r"
      },
      "execution_count": null,
      "outputs": []
    },
    {
      "cell_type": "code",
      "source": [
        "vendas[vendas['estado'].isnull()]"
      ],
      "metadata": {
        "id": "InFN429r9pG0"
      },
      "execution_count": null,
      "outputs": []
    },
    {
      "cell_type": "code",
      "source": [
        "vendas['estado'] = vendas['estado'].fillna('MS')"
      ],
      "metadata": {
        "id": "hlSF90iw-UsA"
      },
      "execution_count": null,
      "outputs": []
    },
    {
      "cell_type": "code",
      "source": [
        "vendas[\"estado\"].fillna(\"MS\", inplace=True)\n"
      ],
      "metadata": {
        "id": "_wUr1vb6_AtT"
      },
      "execution_count": null,
      "outputs": []
    },
    {
      "cell_type": "code",
      "source": [
        "vendas.info()"
      ],
      "metadata": {
        "id": "eaBnCBzJAET2"
      },
      "execution_count": null,
      "outputs": []
    },
    {
      "cell_type": "code",
      "source": [
        "media_preço = vendas['Preço'].mean()"
      ],
      "metadata": {
        "id": "7v3qE2W1ATJR"
      },
      "execution_count": null,
      "outputs": []
    },
    {
      "cell_type": "code",
      "source": [
        "vendas['Preço'].fillna(media_preço,inplace=True)"
      ],
      "metadata": {
        "id": "3Xlk3eZPApiQ"
      },
      "execution_count": null,
      "outputs": []
    },
    {
      "cell_type": "code",
      "source": [
        "print(media_preço)"
      ],
      "metadata": {
        "id": "LBFUuyBHBLJV"
      },
      "execution_count": null,
      "outputs": []
    },
    {
      "cell_type": "code",
      "source": [
        "vendas.info()"
      ],
      "metadata": {
        "id": "971DSB_-A0cz"
      },
      "execution_count": null,
      "outputs": []
    },
    {
      "cell_type": "code",
      "source": [
        "mediana_preço = media_preço = vendas['Preço'].median()"
      ],
      "metadata": {
        "id": "8E3T8wrJBjAf"
      },
      "execution_count": null,
      "outputs": []
    },
    {
      "cell_type": "code",
      "source": [
        "print(mediana_preço)"
      ],
      "metadata": {
        "id": "8a9I62SFBrSc"
      },
      "execution_count": null,
      "outputs": []
    },
    {
      "cell_type": "code",
      "source": [
        "vendas[['Preço_com_frete', 'Preço']].describe()"
      ],
      "metadata": {
        "id": "JY6rD5npDwEm"
      },
      "execution_count": null,
      "outputs": []
    },
    {
      "cell_type": "code",
      "source": [
        "preço_errado = vendas.query(\"Preço>Preço_com_frete\")\n",
        "preço_correto = vendas.query(\"Preço<Preço_com_frete\")"
      ],
      "metadata": {
        "id": "Cuh23Gj-Euny"
      },
      "execution_count": null,
      "outputs": []
    },
    {
      "cell_type": "code",
      "source": [
        "preço_correto.describe()"
      ],
      "metadata": {
        "id": "N0PwZcXXFPzU"
      },
      "execution_count": null,
      "outputs": []
    },
    {
      "cell_type": "code",
      "source": [
        "preço_correto.head()"
      ],
      "metadata": {
        "id": "S-a7jCbvFkoV"
      },
      "execution_count": null,
      "outputs": []
    },
    {
      "cell_type": "code",
      "source": [
        "preço_correto.query(\"Nome_Departamento == 'Esporte_e_Lazer' and estado == 'SP'\").describe()"
      ],
      "metadata": {
        "id": "NGh_EFFJFr_X"
      },
      "execution_count": null,
      "outputs": []
    },
    {
      "cell_type": "code",
      "source": [
        "Departamentos_Mais_Vendidso = preço_correto.groupby('Nome_Departamento').idcompra.nunique()"
      ],
      "metadata": {
        "id": "Yn0exaBLGg5j"
      },
      "execution_count": null,
      "outputs": []
    },
    {
      "cell_type": "code",
      "source": [
        "display(Departamentos_Mais_Vendidso.sort_values(ascending=False).reset_index())"
      ],
      "metadata": {
        "id": "sBIVioh_HUoZ"
      },
      "execution_count": null,
      "outputs": []
    },
    {
      "cell_type": "code",
      "source": [
        "Media_de_Preços = preço_correto.groupby(\"Nome_Departamento\")[\"Preço_com_frete\"].agg('mean').sort_values(ascending=False).reset_index()\n",
        "round(Media_de_Preços,2)"
      ],
      "metadata": {
        "id": "XkIAI9BDJFOX"
      },
      "execution_count": null,
      "outputs": []
    },
    {
      "cell_type": "code",
      "source": [
        "preço_correto['mes'] = preço_correto['Data'].dt.month\n",
        "display(preço_correto)"
      ],
      "metadata": {
        "id": "Ogn0HNJxMOU9"
      },
      "execution_count": null,
      "outputs": []
    },
    {
      "cell_type": "code",
      "source": [
        "Vendas_por_Mes = preço_correto.groupby('mes').idcompra.nunique().sort_values(ascending=False).reset_index()"
      ],
      "metadata": {
        "id": "ln0yoUXYNXWS"
      },
      "execution_count": null,
      "outputs": []
    },
    {
      "cell_type": "code",
      "source": [
        "display(Vendas_por_Mes)"
      ],
      "metadata": {
        "id": "EoKJjDcCNlnK"
      },
      "execution_count": null,
      "outputs": []
    },
    {
      "cell_type": "code",
      "source": [
        "cliente = pd.read_excel('/content/sample_data/cliente_varejo.xlsx')\n",
        "cliente.head()"
      ],
      "metadata": {
        "id": "p_pR4hPWW2ab"
      },
      "execution_count": null,
      "outputs": []
    },
    {
      "cell_type": "code",
      "source": [
        "preço_correto.head()"
      ],
      "metadata": {
        "id": "lDo9fXQ4XE_f"
      },
      "execution_count": null,
      "outputs": []
    },
    {
      "cell_type": "code",
      "source": [
        "cliente.describe()"
      ],
      "metadata": {
        "id": "WdINksXeXOT_"
      },
      "execution_count": null,
      "outputs": []
    },
    {
      "cell_type": "code",
      "source": [
        "cliente.info()"
      ],
      "metadata": {
        "id": "6jYBHQpTX2LD"
      },
      "execution_count": null,
      "outputs": []
    },
    {
      "cell_type": "code",
      "source": [
        "cliente = cliente.astype({'renda':'float'})\n",
        "cliente.info()\n",
        "cliente.head(5)"
      ],
      "metadata": {
        "id": "sepb22hqX6xu"
      },
      "execution_count": null,
      "outputs": []
    },
    {
      "cell_type": "code",
      "source": [
        "vendas_cliente = preço_correto.merge(cliente, how='left', on='cliente_Log')"
      ],
      "metadata": {
        "id": "Q1wN__3FZYMF"
      },
      "execution_count": null,
      "outputs": []
    },
    {
      "cell_type": "code",
      "source": [
        "display(vendas_cliente)"
      ],
      "metadata": {
        "id": "DsXL2optZvgO"
      },
      "execution_count": null,
      "outputs": []
    },
    {
      "cell_type": "code",
      "source": [
        "agg_idcanal_renda = vendas_cliente.groupby('idcanalvenda')['renda'].agg('mean').sort_values(ascending=False).reset_index()"
      ],
      "metadata": {
        "id": "T7HUXra3aKne"
      },
      "execution_count": null,
      "outputs": []
    },
    {
      "cell_type": "code",
      "source": [
        "round(agg_idcanal_renda,2)"
      ],
      "metadata": {
        "id": "aoouh5VmamlJ"
      },
      "execution_count": null,
      "outputs": []
    },
    {
      "cell_type": "code",
      "source": [
        "agg_idade_bandeira = vendas_cliente.groupby('bandeira')['idade'].agg('mean').sort_values(ascending=False).reset_index()"
      ],
      "metadata": {
        "id": "az-rsfL4bChA"
      },
      "execution_count": null,
      "outputs": []
    },
    {
      "cell_type": "code",
      "source": [
        "round(agg_idade_bandeira,2)"
      ],
      "metadata": {
        "id": "BtO-QAf6bWp_"
      },
      "execution_count": null,
      "outputs": []
    },
    {
      "cell_type": "code",
      "source": [
        "fig = plt.figure(figsize = (10,8))\n",
        "\n",
        "plt.bar(agg_idade_bandeira['bandeira'], agg_idade_bandeira['idade'], color='green')\n",
        "plt.ylabel('média de idade')\n",
        "plt.title('Idade média por bandeira', loc='center', fontsize=18, fontweight='bold', color='black')"
      ],
      "metadata": {
        "id": "arMJEPwUczCk"
      },
      "execution_count": null,
      "outputs": []
    },
    {
      "cell_type": "code",
      "source": [
        "px.bar(agg_idade_bandeira, x = 'bandeira', y = 'idade')"
      ],
      "metadata": {
        "id": "I-O_Zv8QHUjW"
      },
      "execution_count": null,
      "outputs": []
    },
    {
      "cell_type": "code",
      "source": [
        "figrenda= plt.figure(figsize = (10,8))\n",
        "\n",
        "plt.bar(agg_idcanal_renda['idcanalvenda'], agg_idcanal_renda['renda'], color='blue')\n",
        "plt.ylabel=('Renda média')\n",
        "plt.title('Renda média por canal de venda', loc='center', fontsize=18, fontweight='bold', color='black')\n"
      ],
      "metadata": {
        "id": "8h8DKIPpebPH"
      },
      "execution_count": null,
      "outputs": []
    },
    {
      "cell_type": "code",
      "source": [
        "vendas_por_data = preço_correto.groupby('Data').idcompra.nunique().reset_index()\n",
        "vendas_por_data"
      ],
      "metadata": {
        "id": "qetGFM3affZv"
      },
      "execution_count": null,
      "outputs": []
    },
    {
      "cell_type": "code",
      "source": [
        "figrenda= plt.figure(figsize = (14,5))\n",
        "x = vendas_por_data['Data']\n",
        "y = vendas_por_data['idcompra']\n",
        "\n",
        "plt.plot(x,y, color = 'black', linewidth = '2' )\n",
        "plt.show()"
      ],
      "metadata": {
        "id": "qA5ZK-CRgfko"
      },
      "execution_count": null,
      "outputs": []
    },
    {
      "cell_type": "code",
      "source": [
        "px.line(vendas_por_data, x = 'Data', y = 'idcompra')"
      ],
      "metadata": {
        "id": "jdkc4--PHnN1"
      },
      "execution_count": null,
      "outputs": []
    },
    {
      "cell_type": "code",
      "source": [
        "Media_de_Preços = preço_correto.groupby(\"Nome_Departamento\")[\"Preço_com_frete\"].agg('mean').sort_values(ascending=False).reset_index()\n",
        "agg_dep_preço = round(Media_de_Preços,2)"
      ],
      "metadata": {
        "id": "afZwhwMpi6uV"
      },
      "execution_count": null,
      "outputs": []
    },
    {
      "cell_type": "code",
      "source": [
        "figrenda= plt.figure(figsize = (40,20))\n",
        "\n",
        "plt.bar(agg_dep_preço['Nome_Departamento'], agg_dep_preço['Preço_com_frete'], color='yellow')\n",
        "plt.ylabel=('Preço com frete')\n",
        "plt.title('Departamento por preço com frete', loc='center', fontsize=18, fontweight='bold', color='black')"
      ],
      "metadata": {
        "id": "mF-69BC6jQVc"
      },
      "execution_count": null,
      "outputs": []
    },
    {
      "cell_type": "code",
      "source": [
        "px.bar(agg_dep_preço, x = 'Nome_Departamento', y = 'Preço_com_frete')"
      ],
      "metadata": {
        "id": "O_9vWAztIFlY"
      },
      "execution_count": null,
      "outputs": []
    }
  ]
}